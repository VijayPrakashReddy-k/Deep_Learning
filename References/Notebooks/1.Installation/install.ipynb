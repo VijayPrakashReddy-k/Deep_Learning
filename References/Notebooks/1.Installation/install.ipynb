{
 "cells": [
  {
   "cell_type": "markdown",
   "metadata": {},
   "source": [
    "# Installation\n",
    "\n",
    ":label:`chap_installation`\n",
    "\n",
    "\n",
    "In order to get you up and running for hands-on learning experience, \n",
    "we need to set up you up with an environment for running Python, \n",
    "Jupyter notebooks, the relevant libraries, \n",
    "and the code needed to run the book itself.\n",
    "\n",
    "## Installing Miniconda\n",
    "\n",
    "The simplest way to get going will be to install [Miniconda](https://conda.io/en/latest/miniconda.html). \n",
    "Download the corresponding Miniconda \"sh\" file from the website \n",
    "and then execute the installation from the command line\n",
    "using `sudo sh <FILENAME>` as follows:"
   ]
  },
  {
   "cell_type": "markdown",
   "metadata": {},
   "source": [
    "```bash\n",
    "# For Mac users (the file name is subject to changes)\n",
    "sudo sh Miniconda3-latest-MacOSX-x86_64.sh\n",
    "\n",
    "# For Linux users (the file name is subject to changes)\n",
    "sudo sh Miniconda3-latest-Linux-x86_64.sh\n",
    "```\n"
   ]
  },
  {
   "cell_type": "markdown",
   "metadata": {},
   "source": [
    "You will be prompted to answer the following questions:"
   ]
  },
  {
   "cell_type": "markdown",
   "metadata": {},
   "source": [
    "```bash\n",
    "Do you accept the license terms? [yes|no]\n",
    "[no] >>> yes\n",
    "\n",
    "Miniconda3 will now be installed into this location:\n",
    "/home/rlhu/miniconda3\n",
    "  - Press ENTER to confirm the location\n",
    "  - Press CTRL-C to abort the installation\n",
    "  - Or specify a different location below\n",
    ">>> <ENTER>\n",
    "\n",
    "Do you wish the installer to initialize Miniconda3\n",
    "by running conda init? [yes|no]\n",
    "[no] >>> yes\n",
    "```\n"
   ]
  },
  {
   "cell_type": "markdown",
   "metadata": {},
   "source": [
    "After installing miniconda, run the appropriate command \n",
    "(depending on your operating system) to activate conda."
   ]
  },
  {
   "cell_type": "markdown",
   "metadata": {},
   "source": [
    "```bash\n",
    "# For Mac user\n",
    "source ~/.bash_profile\n",
    "\n",
    "# For Linux user\n",
    "source ~/.bashrc\n",
    "```\n"
   ]
  },
  {
   "cell_type": "markdown",
   "metadata": {},
   "source": [
    "Then create the conda \"d2l\"\" environment and enter `y`\n",
    "for the following inquiries as shown in :numref:`fig_conda_create_d2l`."
   ]
  },
  {
   "cell_type": "markdown",
   "metadata": {},
   "source": [
    "```bash\n",
    "conda create --name d2l\n",
    "```\n"
   ]
  },
  {
   "cell_type": "markdown",
   "metadata": {},
   "source": [
    "![ Conda create environment d2l. ](../img/conda_create_d2l.png)\n",
    "\n",
    ":width:`700px`\n",
    "\n",
    "\n",
    ":label:`fig_conda_create_d2l`\n",
    "\n",
    "\n",
    "\n",
    "## Downloading the d2l Notebooks\n",
    "\n",
    "Next, we need to download the code for this book."
   ]
  },
  {
   "cell_type": "markdown",
   "metadata": {},
   "source": [
    "```bash\n",
    "sudo apt-get install unzip\n",
    "mkdir d2l-en && cd d2l-en\n",
    "wget http://numpy.d2l.ai/d2l-en.zip\n",
    "unzip d2l-en.zip && rm d2l-en.zip\n",
    "```\n"
   ]
  },
  {
   "cell_type": "markdown",
   "metadata": {},
   "source": [
    "Now we will now want to activate the \"d2l\" environment and install `pip`. \n",
    "Enter `y` for the queries that follow this command."
   ]
  },
  {
   "cell_type": "markdown",
   "metadata": {},
   "source": [
    "```bash\n",
    "conda activate d2l\n",
    "conda install python=3.7 pip\n",
    "```\n"
   ]
  },
  {
   "cell_type": "markdown",
   "metadata": {},
   "source": [
    "Finally, install the \"d2l\" package within the environment \"d2l\" that we created."
   ]
  },
  {
   "cell_type": "markdown",
   "metadata": {},
   "source": [
    "```\n",
    "pip install git+https://github.com/d2l-ai/d2l-en@numpy2\n",
    "```\n"
   ]
  },
  {
   "cell_type": "markdown",
   "metadata": {},
   "source": [
    "If everything went well up to now then you are almost there.\n",
    "If by some misfortune, something went wrong along the way, \n",
    "please check the following:\n",
    "\n",
    "1. That you are using `pip` for Python 3 instead of Python 2 by checking `pip --version`. If it is Python 2, then you may check if there is a `pip3` available.\n",
    "2. That you are using a recent `pip`, such as version 19. \n",
    "   If not, you can upgrade it via `pip install --upgrade pip`.\n",
    "3. Whether you have permission to install system-wide packages. \n",
    "   If not, you can install to your home directory by adding the flag `--user` \n",
    "   to the pip command, e.g. `pip install d2l --user`.\n",
    "\n",
    "\n",
    "## Installing MXNet\n",
    "\n",
    "Before installing `mxnet`, please first check \n",
    "whether or not you have proper GPUs on your machine\n",
    "(the GPUs that power the display on a standard laptop\n",
    "do not count for our purposes.\n",
    "If you are installing on a GPU server, \n",
    "proceed to :ref:`sec_gpu` for instructions \n",
    "to install a GPU-supported `mxnet`.\n",
    "\n",
    "Otherwise, you can install the CPU version.\n",
    "That will be more than enough horsepower to get you \n",
    "through the first few chapters but you will want \n",
    "to access GPUs before running larger models."
   ]
  },
  {
   "cell_type": "markdown",
   "metadata": {},
   "source": [
    "```\n",
    "# For Windows users\n",
    "pip install mxnet==1.6.0b20190926\n",
    "\n",
    "# For Linux and macOS users\n",
    "pip install mxnet==1.6.0b20190915\n",
    "```\n"
   ]
  },
  {
   "cell_type": "markdown",
   "metadata": {},
   "source": [
    "Once both packages are installed, we now open the Jupyter notebook by running:"
   ]
  },
  {
   "cell_type": "markdown",
   "metadata": {},
   "source": [
    "```\n",
    "jupyter notebook\n",
    "```\n"
   ]
  },
  {
   "cell_type": "markdown",
   "metadata": {},
   "source": [
    "At this point, you can open http://localhost:8888 (it usually opens automatically) in your web browser. Once in the notebook server, we can run the code for each section of the book.\n",
    "\n",
    "## Upgrade to a New Version\n",
    "\n",
    "Both this book and MXNet are keeping improving. Please check a new version from time to time.\n",
    "\n",
    "1. The URL  http://numpy.d2l.ai/d2l-en.zip always points to the latest contents.\n",
    "2. Please upgrade \"d2l\" by `pip install git+https://github.com/d2l-ai/d2l-en@numpy2`.\n",
    "3. For the CPU version, MXNet can be upgraded by `pip uninstall mxnet` then re-running the aforementioned `pip install mxnet==...` command.\n",
    "\n",
    "\n",
    "## GPU Support\n",
    "\n",
    "\n",
    ":label:`sec_gpu`\n",
    "\n",
    "\n",
    "By default, MXNet is installed without GPU support \n",
    "to ensure that it will run on any computer (including most laptops).\n",
    "Part of this book requires or recommends running with GPU.\n",
    "If your computer has NVIDIA graphics cards and has installed [CUDA](https://developer.nvidia.com/cuda-downloads),\n",
    "then you should install a GPU-enabled MXNet.\n",
    "If you have installed the CPU-only version, \n",
    "you may need to remove it first by running:"
   ]
  },
  {
   "cell_type": "markdown",
   "metadata": {},
   "source": [
    "```bash\n",
    "pip uninstall mxnet\n",
    "```\n"
   ]
  },
  {
   "cell_type": "markdown",
   "metadata": {},
   "source": [
    "Then we need to find the CUDA version you installed.\n",
    "You may check it through `nvcc --version` or `cat /usr/local/cuda/version.txt`.\n",
    "Assume you have installed CUDA 10.1, \n",
    "then you can install the according MXNet version \n",
    "with the following (OS-specific) command:"
   ]
  },
  {
   "cell_type": "markdown",
   "metadata": {},
   "source": [
    "```\n",
    "# For Windows users\n",
    "pip install mxnet-cu101==1.6.0b20190926\n",
    "\n",
    "# For Linux and macOS users\n",
    "pip install mxnet-cu101==1.6.0b20190915\n",
    "```\n"
   ]
  },
  {
   "cell_type": "markdown",
   "metadata": {},
   "source": [
    "You may change the last digits according to your CUDA version,\n",
    "e.g., `cu100` for CUDA 10.0 and `cu90` for CUDA 9.0.\n",
    "You can find all available MXNet versions via `pip search mxnet`.\n",
    "\n",
    "For installation of MXNet on other platforms, please refer to http://numpy.mxnet.io/#installation.\n",
    "\n",
    "\n",
    "## Exercises\n",
    "\n",
    "1. Download the code for the book and install the runtime environment.\n",
    "\n",
    "\n",
    "## [Discussions](https://discuss.mxnet.io/t/2315)\n",
    "\n",
    "![](../img/qr_install.svg)"
   ]
  }
 ],
 "metadata": {
  "language_info": {
   "name": "python"
  }
 },
 "nbformat": 4,
 "nbformat_minor": 2
}