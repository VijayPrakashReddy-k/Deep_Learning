{
 "cells": [
  {
   "cell_type": "markdown",
   "metadata": {},
   "source": [
    "<h2><font color = 'blue'>Layers"
   ]
  },
  {
   "cell_type": "markdown",
   "metadata": {},
   "source": [
    "`A layer is a class implementing common Neural Networks Operations, such as convolution, batch norm, etc.`\n",
    "\n",
    "<h2>Linear Layer :</h2>\n",
    "\n",
    "<ol>\n",
    "    <h3><li> Activation Function :</h3>\n",
    "    \n",
    "- `Activation function for the hidden layer.`\n",
    "\n",
    "DropoutDuring training, randomly zeroes some of the elements of the input tensor with probability p using samples from a Bernoulli distribution.\n",
    "pprobability of an element to be dropped.\n",
    "0.1\n",
    "Batch NormalizationApplies Batch Normalization over a 2D or 3D input (a mini-batch of 1D inputs with optional additional channel dimension) as described in the paper.\n",
    "num_featuresC from an expected input of size (N,C,L) or L from input of size (N, L).\n",
    "epsa value added to the denominator for numerical stability.\n",
    "0.00001\n",
    "momentumthe value used for the running_mean and running_var computation.\n",
    "0.1\n",
    "affinea boolean value that when set to True, this module has learnable affine parameters, initialized the same way as done for batch normalization.\n",
    "track_running_statsa boolean value that when set to True, this module tracks the running mean and variance, and when set to False, this module does not track such statistics and always uses batch statistics in both training and eval modes.\n",
    "Input UnitsInput Units parameter for the hidden layer.\n",
    "Output UnitsOutput Units parameter for the hidden layer.\n",
    "BiasWhether the layer uses Bias."
   ]
  },
  {
   "cell_type": "code",
   "execution_count": null,
   "metadata": {},
   "outputs": [],
   "source": []
  }
 ],
 "metadata": {
  "kernelspec": {
   "display_name": "Python 3",
   "language": "python",
   "name": "python3"
  },
  "language_info": {
   "codemirror_mode": {
    "name": "ipython",
    "version": 3
   },
   "file_extension": ".py",
   "mimetype": "text/x-python",
   "name": "python",
   "nbconvert_exporter": "python",
   "pygments_lexer": "ipython3",
   "version": "3.7.6"
  }
 },
 "nbformat": 4,
 "nbformat_minor": 2
}
