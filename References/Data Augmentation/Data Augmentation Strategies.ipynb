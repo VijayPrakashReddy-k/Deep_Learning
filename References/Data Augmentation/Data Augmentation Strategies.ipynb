{
 "cells": [
  {
   "cell_type": "markdown",
   "metadata": {},
   "source": [
    "<h2 align = 'center'>Data Augmentation </h2> "
   ]
  },
  {
   "cell_type": "markdown",
   "metadata": {},
   "source": [
    "- `Data augmentation (DA) is an effective alternative to obtaining valid data, and can generate new labeled data based on existing data using \"label-preserving transformations\".`\n",
    "\n",
    "\n",
    "- `Designing appropriate DA policies requires a lot of expert experience and is time-consuming, and the evaluation of searching the optimal policies is costly. Moreover, the policies generated using DA policies are usually not reusable.`\n",
    "\n",
    "        Generally, the more data, the better deep neural networks can do. Insufficient data can lead to model overfitting, which will reduce the generalization performance of the model on the test set."
   ]
  },
  {
   "cell_type": "markdown",
   "metadata": {},
   "source": [
    "![Data_vs_Score](data_plots.png)"
   ]
  },
  {
   "cell_type": "markdown",
   "metadata": {},
   "source": [
    "\n",
    "    Techniques such as:\n",
    "\n",
    "        DropOut\n",
    "        Batch Normalization\n",
    "        L1/L2 regularization \n",
    "        Layer normalization \n",
    "\n",
    "    have been proposed to help combat overfitting, but they will fall short if data is limited. What options do we have?\n",
    " "
   ]
  },
  {
   "cell_type": "markdown",
   "metadata": {},
   "source": [
    "    Data Augmentation Strategies :\n",
    "\n",
    "        PMDA - Poor Man's Data Augmentation Strategies\n",
    "        MMDA* - Middle-Class Man's Data Augmentation Strategies\n",
    "        RMDA* - Rich Man's Data Augmentation Strategies"
   ]
  }
 ],
 "metadata": {
  "kernelspec": {
   "display_name": "Python 3",
   "language": "python",
   "name": "python3"
  },
  "language_info": {
   "codemirror_mode": {
    "name": "ipython",
    "version": 3
   },
   "file_extension": ".py",
   "mimetype": "text/x-python",
   "name": "python",
   "nbconvert_exporter": "python",
   "pygments_lexer": "ipython3",
   "version": "3.7.4"
  }
 },
 "nbformat": 4,
 "nbformat_minor": 2
}
