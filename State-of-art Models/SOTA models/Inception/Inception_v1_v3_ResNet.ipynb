{
 "cells": [
  {
   "cell_type": "markdown",
   "metadata": {},
   "source": [
    "https://towardsdatascience.com/a-simple-guide-to-the-versions-of-the-inception-network-7fc52b863202"
   ]
  },
  {
   "cell_type": "markdown",
   "metadata": {},
   "source": [
    "https://thatbrguy.github.io/"
   ]
  },
  {
   "cell_type": "markdown",
   "metadata": {},
   "source": [
    "https://www.analyticsvidhya.com/blog/2018/10/understanding-inception-network-from-scratch/"
   ]
  },
  {
   "cell_type": "markdown",
   "metadata": {},
   "source": [
    "![Inception_block](Inception_block.png)"
   ]
  },
  {
   "cell_type": "markdown",
   "metadata": {},
   "source": [
    "<h1>Inception v1"
   ]
  },
  {
   "cell_type": "markdown",
   "metadata": {},
   "source": [
    "- Salient parts in the image can have an extremely large variation in size. For instance, an image with a dog can be either of the following, as shown below. The area occupied by the dog is different in each image.\n",
    "\n",
    "- Because of this huge variation in the location of the information, choosing the right kernel size for the convolution operation becomes tough. A larger kernel is preferred for information that is distributed more globally, and a smaller kernel is preferred for information that is distributed more locally.\n",
    "\n",
    "- Very deep networks are prone to overfitting. It is also hard to pass gradient updates through the entire network\n",
    "\n",
    "- Naively stacking large convolution operations is computationally expensive.\n",
    " \n",
    "\n",
    "***Inception V1 solves this through:***\n",
    "\n",
    "- ****with multiple sized filters operating on the same level****\n",
    "\n",
    "- ****going wider to capture different GRF contexts****\n",
    "\n",
    "- ****not using addition, but concatenation to make sure GRF links are maintained till the SoftMax layer****"
   ]
  },
  {
   "cell_type": "markdown",
   "metadata": {},
   "source": [
    "\n",
    "    This is where it all started. Let us analyze what problem it was purported to solve, and how it solved it. \n",
    "\n",
    "***The Premise:***\n",
    "\n",
    "`Salient parts in the image can have extremely large variation in size. For instance, an image with a dog can be either of the following, as shown below. The area occupied by the dog is different in each image.`\n",
    "\n",
    "![dog](dog.png)\n",
    "\n",
    "*From left: A dog occupying most of the image, a dog occupying a part of it, and a dog occupying very little space* \n",
    "\n",
    "    Because of this huge variation in the location of the information, choosing the right kernel size for the convolution operation becomes tough. \n",
    "    \n",
    " ***`A larger kernel is preferred for information that is distributed more globally, and a smaller kernel is preferred for information that is distributed more locally.`***\n",
    "\n",
    "    Very deep networks are prone to overfitting. It also hard to pass gradient updates through the entire network.\n",
    "\n",
    "    Naively stacking large convolution operations is computationally expensive."
   ]
  },
  {
   "cell_type": "markdown",
   "metadata": {},
   "source": [
    "***The Solution:***\n",
    "\n",
    "    Why not have filters with multiple sizes operate on the same level? The network essentially would get a bit “wider” rather than “deeper”. The authors designed the inception module to reflect the same.\n",
    "    \n",
    "    The below image is the “naive” inception module. It performs convolution on an input, with 3 different sizes of filters (1x1, 3x3, 5x5). Additionally, max pooling is also performed. The outputs are concatenated and sent to the next inception module."
   ]
  },
  {
   "cell_type": "markdown",
   "metadata": {},
   "source": [
    "![V1_arch](v1.png)"
   ]
  },
  {
   "cell_type": "markdown",
   "metadata": {},
   "source": [
    "    As stated before, deep neural networks are computationally expensive. To make it cheaper, the authors limit the number of input channels by adding an extra 1x1 convolution before the 3x3 and 5x5 convolutions. Though adding an extra operation may seem counterintuitive, 1x1 convolutions are far more cheaper than 5x5 convolutions, and the reduced number of input channels also help. \n",
    "   \n",
    "`Do note that however, the 1x1 convolution is introduced after the max pooling layer, rather than before.`"
   ]
  },
  {
   "cell_type": "markdown",
   "metadata": {},
   "source": [
    "![V1_dimension_reduced](v1_dimension_reduction.png)"
   ]
  },
  {
   "cell_type": "markdown",
   "metadata": {},
   "source": [
    "`Using the dimension reduced inception module, a neural network architecture was built. This was popularly known as GoogLeNet (Inception v1).`"
   ]
  },
  {
   "cell_type": "markdown",
   "metadata": {},
   "source": [
    "#### Google Net reference : ( 27 Layers )\n",
    "\n",
    "https://leonardoaraujosantos.gitbooks.io/artificial-inteligence/content/googlenet.html"
   ]
  },
  {
   "cell_type": "markdown",
   "metadata": {},
   "source": [
    "`GoogLeNet has 9 such inception modules stacked linearly. It is 22 layers deep (27, including the pooling layers). It uses global average pooling at the end of the last inception module.\n",
    "Needless to say, it is a pretty deep classifier. As with any very deep network, it is subject to the` ***`vanishing gradient problem`***.\n",
    "\n",
    "    To prevent the middle part of the network from “dying out”, the authors introduced two auxiliary classifiers. They essentially applied softmax to the outputs of two of the inception modules, and computed an auxiliary loss over the same labels. The total loss function is a weighted sum of the auxiliary loss and the real loss. Weight value used in the paper was 0.3 for each auxiliary loss."
   ]
  },
  {
   "cell_type": "code",
   "execution_count": null,
   "metadata": {},
   "outputs": [],
   "source": [
    "# The total loss used by the inception net during training.\n",
    "\n",
    "total_loss = real_loss + 0.3 * aux_loss_1 + 0.3 * aux_loss_2"
   ]
  },
  {
   "cell_type": "markdown",
   "metadata": {},
   "source": [
    "***Needless to say, auxiliary loss is purely used for training purposes, and is ignored during inference.***"
   ]
  },
  {
   "cell_type": "markdown",
   "metadata": {},
   "source": [
    "<h1>Inception V2"
   ]
  },
  {
   "cell_type": "markdown",
   "metadata": {},
   "source": [
    "`Inception v2 and Inception v3 were presented in the same paper. The authors proposed a number of upgrades which increased the accuracy and reduced the computational complexity. Inception v2 explores the following:`\n",
    "\n",
    "***The Premise:***\n",
    "\n",
    "`Reduce representational bottleneck. The intuition was that, neural networks perform better when convolutions didn’t alter the dimensions of the input drastically. Reducing the dimensions too much may cause loss of information, known as a` ***`“representational bottleneck”`***\n",
    "\n",
    "    Using smart factorization methods, convolutions can be made more efficient in terms of computational complexity.\n",
    "    \n",
    "***The Solution:***\n",
    "\n",
    "- `\"Factorize 5x5\" convolution to two 3x3 convolution operations to improve computational speed. Although this may seem counterintuitive, `***`a 5x5 convolution is 2.78 times more expensive than a 3x3 convolution`***. `So stacking two 3x3 convolutions infact leads to a boost in performance.`"
   ]
  },
  {
   "cell_type": "markdown",
   "metadata": {},
   "source": [
    "    This is illustrated in the below image.\n",
    "    \n",
    "![Inception_V1_2_3x3_(5x5)](V1_2_3x3.png)"
   ]
  },
  {
   "cell_type": "markdown",
   "metadata": {},
   "source": [
    "- `Moreover, they \"factorize convolutions of filter size nxn\" to a combination of 1xn and nx1 convolutions. For example, a 3x3 convolution is equivalent to first performing a 1x3 convolution, and then performing a 3x1 convolution on its output. They found this method to be 33% more cheaper than the single 3x3 convolution.`"
   ]
  },
  {
   "cell_type": "markdown",
   "metadata": {},
   "source": [
    "    This is illustrated in the below image.\n",
    "    \n",
    "![V1_nxn_1xn_nx1](V1_nxn_1xn_nx1.png)"
   ]
  },
  {
   "cell_type": "markdown",
   "metadata": {},
   "source": [
    "***`The filter banks in the module were expanded (made wider instead of deeper) to remove the representational bottleneck. If the module was made deeper instead, there would be excessive reduction in dimensions, and hence loss of information.`***"
   ]
  },
  {
   "cell_type": "markdown",
   "metadata": {},
   "source": [
    "     This is illustrated in the below image.\n",
    "     \n",
    "![V2](Inception_v2.png)"
   ]
  },
  {
   "cell_type": "markdown",
   "metadata": {},
   "source": [
    "<h1>Inception v3"
   ]
  },
  {
   "cell_type": "markdown",
   "metadata": {},
   "source": [
    "***The Premise :***\n",
    "\n",
    "`The authors noted that the auxiliary classifiers didn’t contribute much until near the end of the training process, when accuracies were nearing saturation. They argued that they function as regularizes, especially if they have BatchNorm or Dropout operations.`\n",
    "\n",
    "    Possibilities to improve on the Inception v2 without drastically changing the modules were to be investigated.\n",
    "\n",
    "***The Solution :***\n",
    "\n",
    "`Inception Net v3 incorporated all of the above upgrades stated for Inception v2, and in addition used the following:`\n",
    "\n",
    "    RMSProp Optimizer.\n",
    "    \n",
    "    Factorized 7x7 convolutions.\n",
    "    \n",
    "    BatchNorm in the Auxillary Classifiers.\n",
    "    \n",
    "    Label Smoothing (A type of regularizing component added to the loss formula that prevents the network from becoming too confident about a class. Prevents over fitting)."
   ]
  },
  {
   "cell_type": "markdown",
   "metadata": {},
   "source": [
    "<h1>Inception v4"
   ]
  },
  {
   "cell_type": "markdown",
   "metadata": {},
   "source": [
    " ***`Insanity : Repeating the same mistakes over and over again and expecting different results`***"
   ]
  },
  {
   "cell_type": "markdown",
   "metadata": {},
   "source": [
    "`Inception v4 and Inception-ResNet were introduced in the same paper. For clarity, let us discuss them in separate sections.`\n",
    "\n",
    "***The Premise :***\n",
    "\n",
    "- `Make the modules more uniform. The authors also noticed that some of the modules were more complicated than necessary. This can enable us to boost performance by adding more of these uniform modules.`\n",
    "\n",
    "***The Solution :***\n",
    "\n",
    "- `The “stem” of Inception v4 was modified. The stem here, refers to the initial set of operations performed before introducing the Inception blocks.`"
   ]
  },
  {
   "cell_type": "markdown",
   "metadata": {},
   "source": [
    "![Inception_V4](Inception_v4.jpeg)"
   ]
  },
  {
   "cell_type": "markdown",
   "metadata": {},
   "source": [
    "*The top image is the stem of Inception-ResNet v1. The bottom image is the stem of Inception v4 and Inception-ResNet v2.* "
   ]
  },
  {
   "cell_type": "markdown",
   "metadata": {},
   "source": [
    "***`They had three main inception modules, named A,B and C (Unlike Inception v2, these modules are infact named A,B and C). They look very similar to their Inception v2 (or v3) counterparts.`***"
   ]
  },
  {
   "cell_type": "markdown",
   "metadata": {},
   "source": [
    "![Inception_V4_blocks](inception_v4_A_B_C.jpeg)"
   ]
  },
  {
   "cell_type": "markdown",
   "metadata": {},
   "source": [
    "*(From left) Inception modules A,B,C used in Inception v4. Note how similar they are to the Inception v2 (or v3) modules.*"
   ]
  },
  {
   "cell_type": "markdown",
   "metadata": {},
   "source": [
    "- `Inception v4 introduced specialized`***`“Reduction Blocks”`***` which are used to change the width and height of the grid. The earlier versions didn’t explicitly have reduction blocks, but the functionality was implemented.`"
   ]
  },
  {
   "cell_type": "markdown",
   "metadata": {},
   "source": [
    "<h1>ResNet : "
   ]
  },
  {
   "cell_type": "markdown",
   "metadata": {},
   "source": [
    "https://medium.com/@14prakash/understanding-and-implementing-architectures-of-resnet-and-resnext-for-state-of-the-art-image-cf51669e1624"
   ]
  },
  {
   "cell_type": "markdown",
   "metadata": {},
   "source": [
    "![ResNet Model](resnet.png)"
   ]
  },
  {
   "cell_type": "markdown",
   "metadata": {},
   "source": [
    "    Inspired by the performance of the ResNet, a hybrid inception module was proposed. There are two sub-versions of Inception ResNet, namely v1 and v2. Before we checkout the salient features, let us look at the minor differences between these two sub-versions.\n",
    "    \n",
    "- `Inception-ResNet v1 has a computational cost that is similar to that of Inception v3.`\n",
    "\n",
    "\n",
    "- `Inception-ResNet v2 has a computational cost that is similar to that of Inception v4.`\n",
    "\n",
    "    They have different stems, as illustrated in the Inception v4 section.\n",
    "\n",
    "`Both sub-versions have the same structure for the modules A, B, C and the reduction blocks.`***`Only difference is the hyper-parameter settings`***. `In this section, we’ll only focus on the structure. Refer to the paper for the exact hyper-parameter settings (The images are of Inception-Resnet v1).`"
   ]
  },
  {
   "cell_type": "markdown",
   "metadata": {},
   "source": [
    "***There are two kinds of residual connections:***"
   ]
  },
  {
   "cell_type": "markdown",
   "metadata": {},
   "source": [
    "![residual_block](residual_block.png)"
   ]
  },
  {
   "attachments": {
    "image.png": {
     "image/png": "[encoded data removed]"
    }
   },
   "cell_type": "markdown",
   "metadata": {},
   "source": [
    "- `1. The identity shortcuts (x) can be directly used when the input and output are of the same dimensions.`\n",
    "\n",
    "![image.png](attachment:image.png)\n",
    "\n",
    "*Residual block function when input and output dimensions are same*"
   ]
  },
  {
   "attachments": {
    "image.png": {
     "image/png": "[encoded data removed]"
    }
   },
   "cell_type": "markdown",
   "metadata": {},
   "source": [
    "- `2. When the dimensions change,` \n",
    "\n",
    "`A) The shortcut still performs identity mapping, with extra zero entries padded with the increased dimension.` \n",
    "\n",
    "`B) The projection shortcut is used to match the dimension (done by 1*1 conv)`\n",
    "\n",
    "*using the following formula*\n",
    "\n",
    "![image.png](attachment:image.png)\n",
    "\n",
    "    Residual block function when the input and output dimensions are not same.\n",
    "\n",
    "***`The first case adds no extra parameters, the second one adds in the form of W_{s}`***"
   ]
  },
  {
   "cell_type": "markdown",
   "metadata": {},
   "source": [
    "<h3>ResNet Architectures :"
   ]
  },
  {
   "cell_type": "markdown",
   "metadata": {},
   "source": [
    "![ResNetArchitectures](resnet_architectures.png)"
   ]
  },
  {
   "cell_type": "markdown",
   "metadata": {},
   "source": [
    "`Each ResNet block is either 2 layer deep (Used in small networks like ResNet 18, 34) or 3 layer deep( ResNet 50, 101, 152).`\n"
   ]
  },
  {
   "cell_type": "markdown",
   "metadata": {},
   "source": [
    "![ResNet_2_3_layers_block](resnet_2_3_layers.png)"
   ]
  },
  {
   "cell_type": "markdown",
   "metadata": {},
   "source": [
    "- `The Bottleneck class implements a 3 layer block and Basicblock implements a 2 layer block. It also has implementations of all ResNet Architectures with pretrained weights trained on ImageNet.`"
   ]
  },
  {
   "cell_type": "markdown",
   "metadata": {},
   "source": [
    "***Observations:***\n",
    "\n",
    "    ResNet Network Converges faster compared to plain counter part of it.\n",
    "\n",
    "    Identity vs Projection shorcuts. Very small incremental gains using projection shortcuts (Equation-2) in all the layers. So all ResNet blocks use only Identity shortcuts with Projections shortcuts used only when the dimensions changes.\n",
    "\n",
    "    ResNet-34 achieved a top-5 validation error of 5.71% better than BN-inception and VGG. ResNet-152 achieves a top-5 validation error of 4.49%. An ensemble of 6 models with different depths achieves a top-5 validation error of 3.57%. Winning the 1st place in ILSVRC-2015"
   ]
  }
 ],
 "metadata": {
  "kernelspec": {
   "display_name": "Python 3",
   "language": "python",
   "name": "python3"
  },
  "language_info": {
   "codemirror_mode": {
    "name": "ipython",
    "version": 3
   },
   "file_extension": ".py",
   "mimetype": "text/x-python",
   "name": "python",
   "nbconvert_exporter": "python",
   "pygments_lexer": "ipython3",
   "version": "3.7.6"
  }
 },
 "nbformat": 4,
 "nbformat_minor": 2
}
